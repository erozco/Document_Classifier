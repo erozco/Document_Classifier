{
 "cells": [
  {
   "cell_type": "markdown",
   "id": "9b174767",
   "metadata": {},
   "source": [
    "# Document Classifier\n",
    "\n",
    "### Author: Erick Orozco"
   ]
  },
  {
   "cell_type": "code",
   "execution_count": 155,
   "id": "0b476289",
   "metadata": {},
   "outputs": [],
   "source": [
    "# general packages \n",
    "import pandas as pd\n",
    "import numpy as np\n",
    "import os\n",
    "import matplotlib.pyplot as plt\n",
    "import seaborn as sns\n",
    "\n",
    "\n",
    "import warnings\n",
    "warnings.filterwarnings('ignore')\n",
    "\n",
    "# text preprocessing\n",
    "from sklearn.preprocessing import LabelEncoder\n",
    "from nltk.corpus import stopwords\n",
    "import spacy\n",
    "import re\n",
    "\n",
    "# general ML packages\n",
    "from sklearn.model_selection import train_test_split\n",
    "from sklearn.pipeline import Pipeline\n",
    "from sklearn.model_selection import GridSearchCV\n",
    "from sklearn.metrics import classification_report\n",
    "from sklearn.metrics import f1_score, make_scorer\n",
    "\n",
    "# tf-idf\n",
    "from sklearn.feature_extraction.text import TfidfVectorizer\n",
    "\n",
    "# multinomial naive bayes\n",
    "from sklearn.naive_bayes import MultinomialNB\n",
    "from sklearn.metrics import accuracy_score, log_loss\n",
    "\n",
    "\n",
    "# BERT\n",
    "import tensorflow as tf\n",
    "import transformers\n",
    "from transformers import BertTokenizer\n",
    "from transformers import DistilBertTokenizer, RobertaTokenizer\n",
    "from tensorflow.keras.optimizers import Adam, SGD"
   ]
  },
  {
   "cell_type": "markdown",
   "id": "07a63278",
   "metadata": {},
   "source": [
    "## Prep Text into Data Frames"
   ]
  },
  {
   "cell_type": "code",
   "execution_count": 84,
   "id": "1de28380",
   "metadata": {},
   "outputs": [
    {
     "data": {
      "text/html": [
       "<div>\n",
       "<style scoped>\n",
       "    .dataframe tbody tr th:only-of-type {\n",
       "        vertical-align: middle;\n",
       "    }\n",
       "\n",
       "    .dataframe tbody tr th {\n",
       "        vertical-align: top;\n",
       "    }\n",
       "\n",
       "    .dataframe thead th {\n",
       "        text-align: right;\n",
       "    }\n",
       "</style>\n",
       "<table border=\"1\" class=\"dataframe\">\n",
       "  <thead>\n",
       "    <tr style=\"text-align: right;\">\n",
       "      <th></th>\n",
       "      <th>count</th>\n",
       "      <th>hate_speech</th>\n",
       "      <th>offensive_language</th>\n",
       "      <th>neither</th>\n",
       "      <th>class</th>\n",
       "      <th>tweet</th>\n",
       "    </tr>\n",
       "  </thead>\n",
       "  <tbody>\n",
       "    <tr>\n",
       "      <th>0</th>\n",
       "      <td>3</td>\n",
       "      <td>0</td>\n",
       "      <td>0</td>\n",
       "      <td>3</td>\n",
       "      <td>2</td>\n",
       "      <td>!!! RT @mayasolovely: As a woman you shouldn't...</td>\n",
       "    </tr>\n",
       "    <tr>\n",
       "      <th>1</th>\n",
       "      <td>3</td>\n",
       "      <td>0</td>\n",
       "      <td>3</td>\n",
       "      <td>0</td>\n",
       "      <td>1</td>\n",
       "      <td>!!!!! RT @mleew17: boy dats cold...tyga dwn ba...</td>\n",
       "    </tr>\n",
       "    <tr>\n",
       "      <th>2</th>\n",
       "      <td>3</td>\n",
       "      <td>0</td>\n",
       "      <td>3</td>\n",
       "      <td>0</td>\n",
       "      <td>1</td>\n",
       "      <td>!!!!!!! RT @UrKindOfBrand Dawg!!!! RT @80sbaby...</td>\n",
       "    </tr>\n",
       "    <tr>\n",
       "      <th>3</th>\n",
       "      <td>3</td>\n",
       "      <td>0</td>\n",
       "      <td>2</td>\n",
       "      <td>1</td>\n",
       "      <td>1</td>\n",
       "      <td>!!!!!!!!! RT @C_G_Anderson: @viva_based she lo...</td>\n",
       "    </tr>\n",
       "    <tr>\n",
       "      <th>4</th>\n",
       "      <td>6</td>\n",
       "      <td>0</td>\n",
       "      <td>6</td>\n",
       "      <td>0</td>\n",
       "      <td>1</td>\n",
       "      <td>!!!!!!!!!!!!! RT @ShenikaRoberts: The shit you...</td>\n",
       "    </tr>\n",
       "  </tbody>\n",
       "</table>\n",
       "</div>"
      ],
      "text/plain": [
       "   count  hate_speech  offensive_language  neither  class  \\\n",
       "0      3            0                   0        3      2   \n",
       "1      3            0                   3        0      1   \n",
       "2      3            0                   3        0      1   \n",
       "3      3            0                   2        1      1   \n",
       "4      6            0                   6        0      1   \n",
       "\n",
       "                                               tweet  \n",
       "0  !!! RT @mayasolovely: As a woman you shouldn't...  \n",
       "1  !!!!! RT @mleew17: boy dats cold...tyga dwn ba...  \n",
       "2  !!!!!!! RT @UrKindOfBrand Dawg!!!! RT @80sbaby...  \n",
       "3  !!!!!!!!! RT @C_G_Anderson: @viva_based she lo...  \n",
       "4  !!!!!!!!!!!!! RT @ShenikaRoberts: The shit you...  "
      ]
     },
     "execution_count": 84,
     "metadata": {},
     "output_type": "execute_result"
    }
   ],
   "source": [
    "# load and store data\n",
    "\n",
    "filepath = '../data/labeled_data.csv'\n",
    "\n",
    "df = pd.read_csv(filepath,index_col=0)\n",
    "\n",
    "df.head()"
   ]
  },
  {
   "cell_type": "code",
   "execution_count": 85,
   "id": "e15fe0e1",
   "metadata": {},
   "outputs": [
    {
     "data": {
      "text/html": [
       "<div>\n",
       "<style scoped>\n",
       "    .dataframe tbody tr th:only-of-type {\n",
       "        vertical-align: middle;\n",
       "    }\n",
       "\n",
       "    .dataframe tbody tr th {\n",
       "        vertical-align: top;\n",
       "    }\n",
       "\n",
       "    .dataframe thead th {\n",
       "        text-align: right;\n",
       "    }\n",
       "</style>\n",
       "<table border=\"1\" class=\"dataframe\">\n",
       "  <thead>\n",
       "    <tr style=\"text-align: right;\">\n",
       "      <th></th>\n",
       "      <th>class</th>\n",
       "      <th>tweet</th>\n",
       "    </tr>\n",
       "  </thead>\n",
       "  <tbody>\n",
       "    <tr>\n",
       "      <th>0</th>\n",
       "      <td>2</td>\n",
       "      <td>!!! RT @mayasolovely: As a woman you shouldn't...</td>\n",
       "    </tr>\n",
       "    <tr>\n",
       "      <th>1</th>\n",
       "      <td>1</td>\n",
       "      <td>!!!!! RT @mleew17: boy dats cold...tyga dwn ba...</td>\n",
       "    </tr>\n",
       "    <tr>\n",
       "      <th>2</th>\n",
       "      <td>1</td>\n",
       "      <td>!!!!!!! RT @UrKindOfBrand Dawg!!!! RT @80sbaby...</td>\n",
       "    </tr>\n",
       "    <tr>\n",
       "      <th>3</th>\n",
       "      <td>1</td>\n",
       "      <td>!!!!!!!!! RT @C_G_Anderson: @viva_based she lo...</td>\n",
       "    </tr>\n",
       "    <tr>\n",
       "      <th>4</th>\n",
       "      <td>1</td>\n",
       "      <td>!!!!!!!!!!!!! RT @ShenikaRoberts: The shit you...</td>\n",
       "    </tr>\n",
       "  </tbody>\n",
       "</table>\n",
       "</div>"
      ],
      "text/plain": [
       "   class                                              tweet\n",
       "0      2  !!! RT @mayasolovely: As a woman you shouldn't...\n",
       "1      1  !!!!! RT @mleew17: boy dats cold...tyga dwn ba...\n",
       "2      1  !!!!!!! RT @UrKindOfBrand Dawg!!!! RT @80sbaby...\n",
       "3      1  !!!!!!!!! RT @C_G_Anderson: @viva_based she lo...\n",
       "4      1  !!!!!!!!!!!!! RT @ShenikaRoberts: The shit you..."
      ]
     },
     "execution_count": 85,
     "metadata": {},
     "output_type": "execute_result"
    }
   ],
   "source": [
    "# this exercise is purely an exercise of NLP, so we'll stick with only 'class' & tweet\n",
    "\n",
    "og_df = df.copy()\n",
    "df = df[['class','tweet']]\n",
    "df.head()"
   ]
  },
  {
   "cell_type": "markdown",
   "id": "908aeffc",
   "metadata": {},
   "source": [
    "## Let's prep the data "
   ]
  },
  {
   "cell_type": "code",
   "execution_count": 86,
   "id": "d1e4e066",
   "metadata": {},
   "outputs": [
    {
     "name": "stdout",
     "output_type": "stream",
     "text": [
      "✔ Download and installation successful\n",
      "You can now load the package via spacy.load('en_core_web_lg')\n"
     ]
    }
   ],
   "source": [
    "# general text preprocessing\n",
    "\n",
    "#stop_words = set(stopwords.words('english'))\n",
    "spacy.cli.download(\"en_core_web_lg\")\n",
    "nlp = spacy.load('en_core_web_lg')\n",
    "replace_space = re.compile('[/(){}\\[\\]\\|@,;]')\n",
    "replace_blank = re.compile('[^0-9a-z #+_]')\n",
    "\n",
    "\n",
    "# input: unprocessed text\n",
    "# output: processed text\n",
    "def text_cleaner(txt):\n",
    "    txt = txt.lower()\n",
    "    txt = replace_space.sub(' ',txt)\n",
    "    txt = replace_blank.sub('',txt)\n",
    "    txt = ' '.join(item.text for item in nlp(txt) if not item.is_stop)\n",
    "    return txt"
   ]
  },
  {
   "cell_type": "code",
   "execution_count": 87,
   "id": "85c7a8ea",
   "metadata": {},
   "outputs": [],
   "source": [
    "# preprocess text\n",
    "df['tweet'] = df['tweet'].apply(text_cleaner)\n",
    "\n",
    "# split data train & test sets\n",
    "x_train,x_test,y_train,y_test=train_test_split(df['tweet'],df['class'],test_size=0.20,\\\n",
    "                                               random_state=0,stratify=df['class'])"
   ]
  },
  {
   "cell_type": "markdown",
   "id": "5ab5a767",
   "metadata": {},
   "source": [
    "## Data Exploratory Analysis\n",
    "\n",
    "Focuses:\n",
    "\n",
    "- Check For Null Values\n",
    "- View class imbalance of data\n",
    "- "
   ]
  },
  {
   "cell_type": "code",
   "execution_count": 75,
   "id": "fd912725",
   "metadata": {},
   "outputs": [
    {
     "name": "stdout",
     "output_type": "stream",
     "text": [
      "class    0\n",
      "tweet    0\n",
      "dtype: int64\n"
     ]
    }
   ],
   "source": [
    "# check total null values in every column\n",
    "print(df.isnull().sum())"
   ]
  },
  {
   "cell_type": "code",
   "execution_count": 99,
   "id": "90251c42",
   "metadata": {},
   "outputs": [
    {
     "data": {
      "text/html": [
       "<div>\n",
       "<style scoped>\n",
       "    .dataframe tbody tr th:only-of-type {\n",
       "        vertical-align: middle;\n",
       "    }\n",
       "\n",
       "    .dataframe tbody tr th {\n",
       "        vertical-align: top;\n",
       "    }\n",
       "\n",
       "    .dataframe thead th {\n",
       "        text-align: right;\n",
       "    }\n",
       "</style>\n",
       "<table border=\"1\" class=\"dataframe\">\n",
       "  <thead>\n",
       "    <tr style=\"text-align: right;\">\n",
       "      <th></th>\n",
       "      <th>class</th>\n",
       "      <th>tweet</th>\n",
       "    </tr>\n",
       "  </thead>\n",
       "  <tbody>\n",
       "    <tr>\n",
       "      <th>0</th>\n",
       "      <td>Neither</td>\n",
       "      <td>rt   mayasolovely woman nt complain cleaning...</td>\n",
       "    </tr>\n",
       "    <tr>\n",
       "      <th>1</th>\n",
       "      <td>Offensive Language</td>\n",
       "      <td>rt   mleew17 boy dats coldtyga dwn bad cuffi...</td>\n",
       "    </tr>\n",
       "    <tr>\n",
       "      <th>2</th>\n",
       "      <td>Offensive Language</td>\n",
       "      <td>rt   urkindofbrand dawg rt   80sbaby4life fu...</td>\n",
       "    </tr>\n",
       "    <tr>\n",
       "      <th>3</th>\n",
       "      <td>Offensive Language</td>\n",
       "      <td>rt   c_g_anderson   viva_based look like tranny</td>\n",
       "    </tr>\n",
       "    <tr>\n",
       "      <th>4</th>\n",
       "      <td>Offensive Language</td>\n",
       "      <td>rt   shenikaroberts shit hear true faker bit...</td>\n",
       "    </tr>\n",
       "    <tr>\n",
       "      <th>...</th>\n",
       "      <td>...</td>\n",
       "      <td>...</td>\n",
       "    </tr>\n",
       "    <tr>\n",
       "      <th>25291</th>\n",
       "      <td>Offensive Language</td>\n",
       "      <td>yous muthafin lie # 8220   lifeasking   20_pea...</td>\n",
       "    </tr>\n",
       "    <tr>\n",
       "      <th>25292</th>\n",
       "      <td>Neither</td>\n",
       "      <td>ve gone broke wrong heart baby   drove redneck...</td>\n",
       "    </tr>\n",
       "    <tr>\n",
       "      <th>25294</th>\n",
       "      <td>Offensive Language</td>\n",
       "      <td>young buck wanna eat dat nigguh like ai nt fuc...</td>\n",
       "    </tr>\n",
       "    <tr>\n",
       "      <th>25295</th>\n",
       "      <td>Offensive Language</td>\n",
       "      <td>youu got wild bitches tellin lies</td>\n",
       "    </tr>\n",
       "    <tr>\n",
       "      <th>25296</th>\n",
       "      <td>Neither</td>\n",
       "      <td>ruffled    ntac eileen dahlia   beautiful colo...</td>\n",
       "    </tr>\n",
       "  </tbody>\n",
       "</table>\n",
       "<p>24783 rows × 2 columns</p>\n",
       "</div>"
      ],
      "text/plain": [
       "                    class                                              tweet\n",
       "0                 Neither    rt   mayasolovely woman nt complain cleaning...\n",
       "1      Offensive Language    rt   mleew17 boy dats coldtyga dwn bad cuffi...\n",
       "2      Offensive Language    rt   urkindofbrand dawg rt   80sbaby4life fu...\n",
       "3      Offensive Language    rt   c_g_anderson   viva_based look like tranny\n",
       "4      Offensive Language    rt   shenikaroberts shit hear true faker bit...\n",
       "...                   ...                                                ...\n",
       "25291  Offensive Language  yous muthafin lie # 8220   lifeasking   20_pea...\n",
       "25292             Neither  ve gone broke wrong heart baby   drove redneck...\n",
       "25294  Offensive Language  young buck wanna eat dat nigguh like ai nt fuc...\n",
       "25295  Offensive Language                  youu got wild bitches tellin lies\n",
       "25296             Neither  ruffled    ntac eileen dahlia   beautiful colo...\n",
       "\n",
       "[24783 rows x 2 columns]"
      ]
     },
     "execution_count": 99,
     "metadata": {},
     "output_type": "execute_result"
    }
   ],
   "source": [
    "# a separate df helpful for class visualizations \n",
    "classes = {0:'Hate Speech',1:'Offensive Language',2:'Neither'}\n",
    "\n",
    "labeled_df = df.copy()\n",
    "labeled_df['class'].replace(classes,inplace=True)\n",
    "labeled_df"
   ]
  },
  {
   "cell_type": "code",
   "execution_count": 92,
   "id": "d5c148e7",
   "metadata": {},
   "outputs": [
    {
     "data": {
      "image/png": "[encoded data removed]",
      "text/plain": [
       "<Figure size 648x288 with 1 Axes>"
      ]
     },
     "metadata": {
      "needs_background": "light"
     },
     "output_type": "display_data"
    }
   ],
   "source": [
    "# visualization of label distribution\n",
    "plt.figure(figsize=(9,4))\n",
    "palette = sns.color_palette('colorblind')\n",
    "chart = sns.countplot(x='class',data=labeled_df,hue='class',dodge=False,palette=palette)\n",
    "chart.set_xlabel(chart.get_xlabel(), fontdict={'weight': 'bold'})\n",
    "chart.set_ylabel(chart.get_ylabel(), fontdict={'weight': 'bold'})\n",
    "chart.set_title('Class Distribution',fontdict={'weight': 'bold'})\n",
    "sns.move_legend(chart, \"upper left\", bbox_to_anchor=(1, 1))"
   ]
  },
  {
   "cell_type": "code",
   "execution_count": 114,
   "id": "e74d1fea",
   "metadata": {},
   "outputs": [
    {
     "data": {
      "image/png": "[encoded data removed]",
      "text/plain": [
       "<Figure size 648x288 with 1 Axes>"
      ]
     },
     "metadata": {
      "needs_background": "light"
     },
     "output_type": "display_data"
    }
   ],
   "source": [
    "labeled_df['char_length'] = labeled_df['tweet'].str.len()\n",
    "temp = labeled_df.groupby('class').mean()\n",
    "temp.reset_index(inplace=True)\n",
    "plt.figure(figsize=(9,4))\n",
    "palette = sns.color_palette('colorblind')\n",
    "chart = sns.barplot(x='class',y='char_length',data=temp,hue='class',dodge=False,palette=palette)\n",
    "chart.set_xlabel(chart.get_xlabel(), fontdict={'weight': 'bold'})\n",
    "chart.set_ylabel('Character Length', fontdict={'weight': 'bold'})\n",
    "chart.set_title('Average Tweet Character Length',fontdict={'weight': 'bold'})\n",
    "sns.move_legend(chart, \"upper left\", bbox_to_anchor=(1, 1))"
   ]
  },
  {
   "cell_type": "code",
   "execution_count": 124,
   "id": "35e01959",
   "metadata": {},
   "outputs": [
    {
     "data": {
      "image/png": "[encoded data removed]",
      "text/plain": [
       "<Figure size 648x288 with 1 Axes>"
      ]
     },
     "metadata": {
      "needs_background": "light"
     },
     "output_type": "display_data"
    }
   ],
   "source": [
    "labeled_df['word_count'] = labeled_df['tweet'].str.split().str.len()\n",
    "temp = labeled_df.groupby('class').mean()\n",
    "labeled_df['char_length'] = labeled_df['tweet'].str.len()\n",
    "temp = labeled_df.groupby('class').mean()\n",
    "temp.reset_index(inplace=True)\n",
    "plt.figure(figsize=(9,4))\n",
    "palette = sns.color_palette('colorblind')\n",
    "chart = sns.barplot(x='class',y='char_length',data=temp,hue='class',dodge=False,palette=palette)\n",
    "chart.set_xlabel(chart.get_xlabel(), fontdict={'weight': 'bold'})\n",
    "chart.set_ylabel('Word Count', fontdict={'weight': 'bold'})\n",
    "chart.set_title('Average Tweet Word Count',fontdict={'weight': 'bold'})\n",
    "sns.move_legend(chart, \"upper left\", bbox_to_anchor=(1, 1))"
   ]
  },
  {
   "cell_type": "markdown",
   "id": "5f681862",
   "metadata": {},
   "source": [
    "## TF-IDF\n"
   ]
  },
  {
   "cell_type": "code",
   "execution_count": 38,
   "id": "4d808fd5",
   "metadata": {},
   "outputs": [],
   "source": [
    "# tfidf vectors\n",
    "\n",
    "vec = TfidfVectorizer()"
   ]
  },
  {
   "cell_type": "markdown",
   "id": "fd87fa72",
   "metadata": {},
   "source": [
    "## Multinomial Naive Bayes"
   ]
  },
  {
   "cell_type": "code",
   "execution_count": 39,
   "id": "b4a51777",
   "metadata": {},
   "outputs": [],
   "source": [
    "# pipeline construction for multinomial naive bayes\n",
    "nb_pipe = Pipeline([\n",
    "    ('tf-idf', vec),\n",
    "    ('clf', MultinomialNB()),\n",
    "])"
   ]
  },
  {
   "cell_type": "code",
   "execution_count": 76,
   "id": "0af0ef04",
   "metadata": {},
   "outputs": [
    {
     "name": "stdout",
     "output_type": "stream",
     "text": [
      "---------------Training Scores---------------\n",
      "\n",
      "Train Accuracy score: 0.8299203066680118\n",
      "                    precision    recall  f1-score   support\n",
      "\n",
      "       Hate Speech       1.00      0.00      0.01      1144\n",
      "Offensive Language       0.82      1.00      0.90     15352\n",
      "           Neither       0.99      0.33      0.50      3330\n",
      "\n",
      "          accuracy                           0.83     19826\n",
      "         macro avg       0.94      0.44      0.47     19826\n",
      "      weighted avg       0.86      0.83      0.78     19826\n",
      "\n",
      "None\n",
      "---------------Test Scores---------------\n",
      "\n",
      "Test Accuracy score: 0.7930199717571111\n",
      "                    precision    recall  f1-score   support\n",
      "\n",
      "       Hate Speech       0.00      0.00      0.00       286\n",
      "Offensive Language       0.79      1.00      0.88      3838\n",
      "           Neither       0.95      0.12      0.21       833\n",
      "\n",
      "          accuracy                           0.79      4957\n",
      "         macro avg       0.58      0.37      0.36      4957\n",
      "      weighted avg       0.77      0.79      0.72      4957\n",
      "\n",
      "None\n"
     ]
    }
   ],
   "source": [
    "# standard multinomial naive bayes wiuth tf-idf (no cross validation)\n",
    "\n",
    "nb_pipe.fit(x_train, y_train)\n",
    "\n",
    "nb_train_pred = nb_pipe.predict(x_train)\n",
    "nb_test_pred = nb_pipe.predict(x_test)\n",
    "\n",
    "\n",
    "target_names = classes.values()\n",
    "print('---------------Training Scores---------------\\n')\n",
    "print(\"Train Accuracy score: \" + str(accuracy_score(y_train, nb_train_pred)))\n",
    "print(print(classification_report(y_train, nb_train_pred, target_names=target_names)))\n",
    "\n",
    "print('---------------Test Scores---------------\\n')\n",
    "print(\"Test Accuracy score: \" + str(accuracy_score(y_test, nb_test_pred)))\n",
    "print(print(classification_report(y_test, nb_test_pred, target_names=target_names)))"
   ]
  },
  {
   "cell_type": "markdown",
   "id": "d35d3795",
   "metadata": {},
   "source": [
    "### Not great, let's cross-validate"
   ]
  },
  {
   "cell_type": "code",
   "execution_count": 69,
   "id": "515fbe81",
   "metadata": {},
   "outputs": [],
   "source": [
    "# Let's try to improve our model by cross validating\n",
    "\n",
    "# different scorers to evaluate in gridsearch\n",
    "f1_macro = make_scorer(f1_score , average='macro')\n",
    "f1_micro = make_scorer(f1_score , average='micro')\n",
    "\n",
    "\n",
    "parameters = {'clf__alpha': (0.3,0.2,0.1, 0.01, 0.001)}  "
   ]
  },
  {
   "cell_type": "code",
   "execution_count": 72,
   "id": "492098c8",
   "metadata": {},
   "outputs": [
    {
     "name": "stdout",
     "output_type": "stream",
     "text": [
      "---------------Training Scores---------------\n",
      "\n",
      "Train Accuracy score: 0.9127408453545849\n",
      "\n",
      "                    precision    recall  f1-score   support\n",
      "\n",
      "       Hate Speech       1.00      0.21      0.34      1144\n",
      "Offensive Language       0.90      1.00      0.95     15352\n",
      "           Neither       0.98      0.76      0.86      3330\n",
      "\n",
      "          accuracy                           0.91     19826\n",
      "         macro avg       0.96      0.65      0.72     19826\n",
      "      weighted avg       0.92      0.91      0.90     19826\n",
      "\n",
      "None\n",
      "---------------Test Scores---------------\n",
      "\n",
      "Test Accuracy score: 0.82812184789187\n",
      "\n",
      "                    precision    recall  f1-score   support\n",
      "\n",
      "       Hate Speech       0.00      0.00      0.00       286\n",
      "Offensive Language       0.82      0.99      0.90      3838\n",
      "           Neither       0.91      0.35      0.50       833\n",
      "\n",
      "          accuracy                           0.83      4957\n",
      "         macro avg       0.58      0.45      0.47      4957\n",
      "      weighted avg       0.79      0.83      0.78      4957\n",
      "\n",
      "None\n",
      "---------------Best Parameters---------------\n",
      "\n",
      "{'clf__alpha': 0.3}\n"
     ]
    }
   ],
   "source": [
    "#Scoring = accuracy\n",
    "nb_grid = GridSearchCV(nb_pipe, parameters,scoring=accuracy_score)\n",
    "\n",
    "nb_grid.fit(x_train, y_train)\n",
    "nbg_train_pred = nb_grid.predict(x_train)\n",
    "nbg_test_pred = nb_grid.predict(x_test)\n",
    "\n",
    "\n",
    "target_names = classes.values()\n",
    "print('---------------Training Scores---------------\\n')\n",
    "print(\"Train Accuracy score: \" + str(accuracy_score(y_train, nbg_train_pred))+'\\n')\n",
    "print(print(classification_report(y_train, nbg_train_pred, target_names=target_names)))\n",
    "\n",
    "print('---------------Test Scores---------------\\n')\n",
    "print(\"Test Accuracy score: \" + str(accuracy_score(y_test, nbg_test_pred))+'\\n')\n",
    "print(print(classification_report(y_test, nbg_test_pred, target_names=target_names)))\n",
    "\n",
    "\n",
    "print('---------------Best Parameters---------------\\n')\n",
    "print(nb_grid.best_params_)"
   ]
  },
  {
   "cell_type": "code",
   "execution_count": 67,
   "id": "31d70c09",
   "metadata": {},
   "outputs": [
    {
     "name": "stdout",
     "output_type": "stream",
     "text": [
      "---------------Training Scores---------------\n",
      "\n",
      "Train Accuracy score: 0.9752345405023706\n",
      "\n",
      "                    precision    recall  f1-score   support\n",
      "\n",
      "       Hate Speech       0.97      0.80      0.88      1144\n",
      "Offensive Language       0.97      1.00      0.98     15352\n",
      "           Neither       0.99      0.93      0.96      3330\n",
      "\n",
      "          accuracy                           0.98     19826\n",
      "         macro avg       0.98      0.91      0.94     19826\n",
      "      weighted avg       0.98      0.98      0.97     19826\n",
      "\n",
      "None\n",
      "---------------Test Scores---------------\n",
      "\n",
      "Test Accuracy score: 0.8400242081904378\n",
      "\n",
      "                    precision    recall  f1-score   support\n",
      "\n",
      "       Hate Speech       0.33      0.09      0.14       286\n",
      "Offensive Language       0.85      0.97      0.91      3838\n",
      "           Neither       0.80      0.52      0.63       833\n",
      "\n",
      "          accuracy                           0.84      4957\n",
      "         macro avg       0.66      0.52      0.56      4957\n",
      "      weighted avg       0.81      0.84      0.82      4957\n",
      "\n",
      "None\n",
      "---------------Best Parameters---------------\n",
      "\n",
      "{'clf__alpha': 0.01}\n"
     ]
    }
   ],
   "source": [
    "#Scoring = macro f1-score\n",
    "nb_grid = GridSearchCV(nb_pipe, parameters,scoring=f1_macro)\n",
    "\n",
    "nb_grid.fit(x_train, y_train)\n",
    "nbg_train_pred = nb_grid.predict(x_train)\n",
    "nbg_test_pred = nb_grid.predict(x_test)\n",
    "\n",
    "\n",
    "target_names = classes.values()\n",
    "print('---------------Training Scores---------------\\n')\n",
    "print(\"Train Accuracy score: \" + str(accuracy_score(y_train, nbg_train_pred))+'\\n')\n",
    "print(print(classification_report(y_train, nbg_train_pred, target_names=target_names)))\n",
    "\n",
    "print('---------------Test Scores---------------\\n')\n",
    "print(\"Test Accuracy score: \" + str(accuracy_score(y_test, nbg_test_pred))+'\\n')\n",
    "print(print(classification_report(y_test, nbg_test_pred, target_names=target_names)))\n",
    "\n",
    "\n",
    "print('---------------Best Parameters---------------\\n')\n",
    "print(nb_grid.best_params_)"
   ]
  },
  {
   "cell_type": "code",
   "execution_count": 71,
   "id": "3640de12",
   "metadata": {},
   "outputs": [
    {
     "name": "stdout",
     "output_type": "stream",
     "text": [
      "---------------Training Scores---------------\n",
      "\n",
      "Train Accuracy score: 0.9544537476041561\n",
      "\n",
      "                    precision    recall  f1-score   support\n",
      "\n",
      "       Hate Speech       0.99      0.57      0.72      1144\n",
      "Offensive Language       0.95      1.00      0.97     15352\n",
      "           Neither       0.99      0.89      0.94      3330\n",
      "\n",
      "          accuracy                           0.95     19826\n",
      "         macro avg       0.97      0.82      0.88     19826\n",
      "      weighted avg       0.96      0.95      0.95     19826\n",
      "\n",
      "None\n",
      "---------------Test Scores---------------\n",
      "\n",
      "Test Accuracy score: 0.8442606415170466\n",
      "\n",
      "                    precision    recall  f1-score   support\n",
      "\n",
      "       Hate Speech       0.40      0.04      0.08       286\n",
      "Offensive Language       0.85      0.98      0.91      3838\n",
      "           Neither       0.86      0.48      0.61       833\n",
      "\n",
      "          accuracy                           0.84      4957\n",
      "         macro avg       0.70      0.50      0.53      4957\n",
      "      weighted avg       0.82      0.84      0.81      4957\n",
      "\n",
      "None\n",
      "---------------Best Parameters---------------\n",
      "\n",
      "{'clf__alpha': 0.1}\n"
     ]
    }
   ],
   "source": [
    "#Scoring = micro f1-score\n",
    "nb_grid = GridSearchCV(nb_pipe, parameters,scoring=f1_micro)\n",
    "\n",
    "nb_grid.fit(x_train, y_train)\n",
    "nbg_train_pred = nb_grid.predict(x_train)\n",
    "nbg_test_pred = nb_grid.predict(x_test)\n",
    "\n",
    "\n",
    "target_names = classes.values()\n",
    "print('---------------Training Scores---------------\\n')\n",
    "print(\"Train Accuracy score: \" + str(accuracy_score(y_train, nbg_train_pred))+'\\n')\n",
    "print(print(classification_report(y_train, nbg_train_pred, target_names=target_names)))\n",
    "\n",
    "print('---------------Test Scores---------------\\n')\n",
    "print(\"Test Accuracy score: \" + str(accuracy_score(y_test, nbg_test_pred))+'\\n')\n",
    "print(print(classification_report(y_test, nbg_test_pred, target_names=target_names)))\n",
    "\n",
    "\n",
    "print('---------------Best Parameters---------------\\n')\n",
    "print(nb_grid.best_params_)"
   ]
  },
  {
   "cell_type": "markdown",
   "id": "407a55f3",
   "metadata": {},
   "source": [
    "### Good improvement overall"
   ]
  }
 ],
 "metadata": {
  "kernelspec": {
   "display_name": "Python 3",
   "language": "python",
   "name": "python3"
  },
  "language_info": {
   "codemirror_mode": {
    "name": "ipython",
    "version": 3
   },
   "file_extension": ".py",
   "mimetype": "text/x-python",
   "name": "python",
   "nbconvert_exporter": "python",
   "pygments_lexer": "ipython3",
   "version": "3.6.8"
  }
 },
 "nbformat": 4,
 "nbformat_minor": 5
}

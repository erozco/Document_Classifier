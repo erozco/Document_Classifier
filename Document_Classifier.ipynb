{
 "cells": [
  {
   "cell_type": "markdown",
   "id": "9b174767",
   "metadata": {},
   "source": [
    "# Document Classifier\n",
    "\n",
    "### Author: Erick Orozco"
   ]
  },
  {
   "cell_type": "code",
   "execution_count": 115,
   "id": "0b476289",
   "metadata": {},
   "outputs": [],
   "source": [
    "# general packages \n",
    "import pandas as pd\n",
    "import numpy as np\n",
    "import os\n",
    "import matplotlib.pyplot as plt\n",
    "import seaborn as sns\n",
    "\n",
    "# text preprocessing\n",
    "from sklearn.preprocessing import LabelEncoder\n",
    "from nltk.corpus import stopwords\n",
    "import spacy\n",
    "import re\n",
    "\n",
    "# general ML packages\n",
    "from sklearn.model_selection import train_test_split\n",
    "from sklearn.pipeline import Pipeline\n",
    "\n",
    "# tf-idf\n",
    "from sklearn.feature_extraction.text import TfidfVectorizer\n",
    "\n",
    "# multinomial naive bayes\n",
    "from sklearn.naive_bayes import MultinomialNB\n",
    "from sklearn.metrics import accuracy_score, log_loss\n",
    "\n",
    "# BERT\n",
    "import tensorflow as tf\n",
    "import transformers\n",
    "from transformers import BertTokenizer\n",
    "from transformers import DistilBertTokenizer, RobertaTokenizer\n",
    "from tensorflow.keras.optimizers import Adam, SGD"
   ]
  },
  {
   "cell_type": "markdown",
   "id": "07a63278",
   "metadata": {},
   "source": [
    "## Prep Text into Data Frames"
   ]
  },
  {
   "cell_type": "code",
   "execution_count": 116,
   "id": "1de28380",
   "metadata": {},
   "outputs": [
    {
     "data": {
      "text/html": [
       "<div>\n",
       "<style scoped>\n",
       "    .dataframe tbody tr th:only-of-type {\n",
       "        vertical-align: middle;\n",
       "    }\n",
       "\n",
       "    .dataframe tbody tr th {\n",
       "        vertical-align: top;\n",
       "    }\n",
       "\n",
       "    .dataframe thead th {\n",
       "        text-align: right;\n",
       "    }\n",
       "</style>\n",
       "<table border=\"1\" class=\"dataframe\">\n",
       "  <thead>\n",
       "    <tr style=\"text-align: right;\">\n",
       "      <th></th>\n",
       "      <th>text</th>\n",
       "      <th>label</th>\n",
       "    </tr>\n",
       "  </thead>\n",
       "  <tbody>\n",
       "    <tr>\n",
       "      <th>0</th>\n",
       "      <td>Quarterly profits at US media giant TimeWarner...</td>\n",
       "      <td>business</td>\n",
       "    </tr>\n",
       "    <tr>\n",
       "      <th>1</th>\n",
       "      <td>The dollar has hit its highest level against t...</td>\n",
       "      <td>business</td>\n",
       "    </tr>\n",
       "    <tr>\n",
       "      <th>2</th>\n",
       "      <td>The owners of embattled Russian oil giant Yuko...</td>\n",
       "      <td>business</td>\n",
       "    </tr>\n",
       "    <tr>\n",
       "      <th>3</th>\n",
       "      <td>British Airways has blamed high fuel prices fo...</td>\n",
       "      <td>business</td>\n",
       "    </tr>\n",
       "    <tr>\n",
       "      <th>4</th>\n",
       "      <td>Shares in UK drinks and food firm Allied Domec...</td>\n",
       "      <td>business</td>\n",
       "    </tr>\n",
       "  </tbody>\n",
       "</table>\n",
       "</div>"
      ],
      "text/plain": [
       "                                                text     label\n",
       "0  Quarterly profits at US media giant TimeWarner...  business\n",
       "1  The dollar has hit its highest level against t...  business\n",
       "2  The owners of embattled Russian oil giant Yuko...  business\n",
       "3  British Airways has blamed high fuel prices fo...  business\n",
       "4  Shares in UK drinks and food firm Allied Domec...  business"
      ]
     },
     "execution_count": 116,
     "metadata": {},
     "output_type": "execute_result"
    }
   ],
   "source": [
    "# save important information\n",
    "text      = []\n",
    "label     = []\n",
    "directory = []\n",
    "header    = []\n",
    "\n",
    "filepath = 'data/textfiles/'\n",
    "\n",
    "# walk through filepath and sort information\n",
    "for curr_directory,_,files in os.walk(filepath):\n",
    "    if files[0] == 'README.TXT':\n",
    "        _\n",
    "    else:\n",
    "        for file in files: \n",
    "            directory.append(curr_directory+'/'+file)\n",
    "            label.append(curr_directory.split('/')[-1])\n",
    "            with open(directory[-1],'r',) as f:\n",
    "                body = ''\n",
    "                first = ''\n",
    "                for line in f:\n",
    "                    if first == '':\n",
    "                        first = line\n",
    "                        header.append(line.strip())\n",
    "                    else:\n",
    "                        body = body+line.strip()\n",
    "                text.append(body)\n",
    "\n",
    "# assemble data into df \n",
    "all_df = pd.DataFrame(list(zip(directory,header,text,label)),columns=['directory','header','text','label'])\n",
    "\n",
    "df = all_df[['text','label']]\n",
    "\n",
    "df.head()"
   ]
  },
  {
   "cell_type": "code",
   "execution_count": 117,
   "id": "d5c148e7",
   "metadata": {},
   "outputs": [
    {
     "data": {
      "image/png": "[encoded data removed]",
      "text/plain": [
       "<Figure size 720x432 with 1 Axes>"
      ]
     },
     "metadata": {
      "needs_background": "light"
     },
     "output_type": "display_data"
    }
   ],
   "source": [
    "plt.figure(figsize=(10, 6))\n",
    "palette = sns.color_palette('colorblind')\n",
    "chart = sns.countplot(x='label',data=df,hue='label',dodge=False,palette=palette)\n",
    "chart.set(xlabel='Document Class', ylabel='Count',title='Document Class Distribution')\n",
    "sns.move_legend(chart, \"upper left\", bbox_to_anchor=(1, 1))"
   ]
  },
  {
   "cell_type": "code",
   "execution_count": 118,
   "id": "d8e6f42c",
   "metadata": {},
   "outputs": [
    {
     "data": {
      "text/html": [
       "<div>\n",
       "<style scoped>\n",
       "    .dataframe tbody tr th:only-of-type {\n",
       "        vertical-align: middle;\n",
       "    }\n",
       "\n",
       "    .dataframe tbody tr th {\n",
       "        vertical-align: top;\n",
       "    }\n",
       "\n",
       "    .dataframe thead th {\n",
       "        text-align: right;\n",
       "    }\n",
       "</style>\n",
       "<table border=\"1\" class=\"dataframe\">\n",
       "  <thead>\n",
       "    <tr style=\"text-align: right;\">\n",
       "      <th></th>\n",
       "      <th>text</th>\n",
       "      <th>label</th>\n",
       "    </tr>\n",
       "  </thead>\n",
       "  <tbody>\n",
       "    <tr>\n",
       "      <th>0</th>\n",
       "      <td>Quarterly profits at US media giant TimeWarner...</td>\n",
       "      <td>0</td>\n",
       "    </tr>\n",
       "    <tr>\n",
       "      <th>1</th>\n",
       "      <td>The dollar has hit its highest level against t...</td>\n",
       "      <td>0</td>\n",
       "    </tr>\n",
       "    <tr>\n",
       "      <th>2</th>\n",
       "      <td>The owners of embattled Russian oil giant Yuko...</td>\n",
       "      <td>0</td>\n",
       "    </tr>\n",
       "    <tr>\n",
       "      <th>3</th>\n",
       "      <td>British Airways has blamed high fuel prices fo...</td>\n",
       "      <td>0</td>\n",
       "    </tr>\n",
       "    <tr>\n",
       "      <th>4</th>\n",
       "      <td>Shares in UK drinks and food firm Allied Domec...</td>\n",
       "      <td>0</td>\n",
       "    </tr>\n",
       "  </tbody>\n",
       "</table>\n",
       "</div>"
      ],
      "text/plain": [
       "                                                text  label\n",
       "0  Quarterly profits at US media giant TimeWarner...      0\n",
       "1  The dollar has hit its highest level against t...      0\n",
       "2  The owners of embattled Russian oil giant Yuko...      0\n",
       "3  British Airways has blamed high fuel prices fo...      0\n",
       "4  Shares in UK drinks and food firm Allied Domec...      0"
      ]
     },
     "execution_count": 118,
     "metadata": {},
     "output_type": "execute_result"
    }
   ],
   "source": [
    "# convert labels to unique integer values\n",
    "df['label'] = LabelEncoder().fit_transform(df['label'])\n",
    "df.head()"
   ]
  },
  {
   "cell_type": "code",
   "execution_count": 119,
   "id": "ac9a738b",
   "metadata": {},
   "outputs": [
    {
     "name": "stdout",
     "output_type": "stream",
     "text": [
      "✔ Download and installation successful\n",
      "You can now load the package via spacy.load('en_core_web_lg')\n"
     ]
    }
   ],
   "source": [
    "# general text preprocessing\n",
    "\n",
    "#stop_words = set(stopwords.words('english'))\n",
    "spacy.cli.download(\"en_core_web_lg\")\n",
    "nlp = spacy.load('en_core_web_lg')\n",
    "replace_space = re.compile('[/(){}\\[\\]\\|@,;]')\n",
    "replace_blank = re.compile('[^0-9a-z #+_]')\n",
    "\n",
    "\n",
    "# input: unprocessed text\n",
    "# output: processed text\n",
    "def text_cleaner(txt):\n",
    "    txt = txt.lower()\n",
    "    txt = replace_space.sub(' ',txt)\n",
    "    txt = replace_blank.sub('',txt)\n",
    "    txt = ' '.join(item.text for item in nlp(txt) if not item.is_stop)\n",
    "    return txt"
   ]
  },
  {
   "cell_type": "code",
   "execution_count": 120,
   "id": "b39d14d2",
   "metadata": {},
   "outputs": [],
   "source": [
    "# preprocess text\n",
    "df['text'] = df['text'].apply(text_cleaner)\n",
    "\n",
    "# split data train & test sets\n",
    "x_train,x_test,y_train,y_test=train_test_split(df['text'],df['label'],test_size=0.20,\\\n",
    "                                               random_state=0,stratify=df['label'])\n"
   ]
  },
  {
   "cell_type": "markdown",
   "id": "11750e6e",
   "metadata": {},
   "source": [
    "## TF-IDF for Traditional ML models\n"
   ]
  },
  {
   "cell_type": "code",
   "execution_count": 121,
   "id": "4d808fd5",
   "metadata": {},
   "outputs": [],
   "source": [
    "# tfidf vectors\n",
    "\n",
    "vec = TfidfVectorizer()"
   ]
  },
  {
   "cell_type": "markdown",
   "id": "e7a8fd65",
   "metadata": {},
   "source": [
    "## Multinomial Naive Bayes"
   ]
  },
  {
   "cell_type": "code",
   "execution_count": 112,
   "id": "d2ea7945",
   "metadata": {},
   "outputs": [],
   "source": [
    "# pipeline construction for \n",
    "nb_pipe = Pipeline([\n",
    "    ('tf-idf', vec),\n",
    "    ('clf', MultinomialNB()),\n",
    "])"
   ]
  }
 ],
 "metadata": {
  "kernelspec": {
   "display_name": "Python 3",
   "language": "python",
   "name": "python3"
  },
  "language_info": {
   "codemirror_mode": {
    "name": "ipython",
    "version": 3
   },
   "file_extension": ".py",
   "mimetype": "text/x-python",
   "name": "python",
   "nbconvert_exporter": "python",
   "pygments_lexer": "ipython3",
   "version": "3.6.8"
  }
 },
 "nbformat": 4,
 "nbformat_minor": 5
}
